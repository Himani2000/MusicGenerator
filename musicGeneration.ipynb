{
 "cells": [
  {
   "cell_type": "code",
   "execution_count": null,
   "metadata": {},
   "outputs": [],
   "source": [
    "import scipy.io.wavfile as wavefile"
   ]
  },
  {
   "cell_type": "code",
   "execution_count": null,
   "metadata": {},
   "outputs": [],
   "source": [
    "import tensorflow as tf\n",
    "import numpy as np"
   ]
  },
  {
   "cell_type": "code",
   "execution_count": null,
   "metadata": {},
   "outputs": [],
   "source": [
    "rate, data = wavefile.read(filename='./ChillingMusic.wav')"
   ]
  },
  {
   "cell_type": "code",
   "execution_count": null,
   "metadata": {},
   "outputs": [],
   "source": [
    "data.shape"
   ]
  },
  {
   "cell_type": "code",
   "execution_count": null,
   "metadata": {
    "scrolled": true
   },
   "outputs": [],
   "source": [
    "data[:10]"
   ]
  },
  {
   "cell_type": "code",
   "execution_count": null,
   "metadata": {},
   "outputs": [],
   "source": [
    "data.shape[0]/rate # which means rate number of values together makes up 1 sec of the audio."
   ]
  },
  {
   "cell_type": "code",
   "execution_count": null,
   "metadata": {},
   "outputs": [],
   "source": [
    "def next_batch(batch_size, x, y):\n",
    "    prev = 0\n",
    "    for i in range(batch_size , x.shape[0], batch_size):\n",
    "        yield x[prev:i], y[prev:i]\n",
    "        prev = i"
   ]
  },
  {
   "cell_type": "code",
   "execution_count": null,
   "metadata": {},
   "outputs": [],
   "source": [
    "no_steps = 30\n",
    "n_features = 2\n",
    "learning_rate = 0.001\n",
    "n_epochs = 1500\n",
    "batch_size = 40\n",
    "depth = 3\n",
    "n_neurons = 100\n",
    "n_outputs = n_features"
   ]
  },
  {
   "cell_type": "code",
   "execution_count": null,
   "metadata": {},
   "outputs": [],
   "source": [
    "x=[]\n",
    "_y=[]"
   ]
  },
  {
   "cell_type": "code",
   "execution_count": null,
   "metadata": {},
   "outputs": [],
   "source": [
    "startix = 0\n",
    "endix = no_steps\n",
    "\n",
    "while endix+1 < 5*rate: #data for 5 secs.\n",
    "    x.append(data[startix:endix])\n",
    "    _y.append(data[startix+1:endix+1])\n",
    "    startix+=1\n",
    "    endix+=1"
   ]
  },
  {
   "cell_type": "code",
   "execution_count": null,
   "metadata": {},
   "outputs": [],
   "source": [
    "x = np.array(x)\n",
    "_y = np.array(_y)"
   ]
  },
  {
   "cell_type": "code",
   "execution_count": null,
   "metadata": {},
   "outputs": [],
   "source": [
    "x.shape, _y.shape"
   ]
  },
  {
   "cell_type": "code",
   "execution_count": null,
   "metadata": {},
   "outputs": [],
   "source": [
    "scaling_factor = x.max()"
   ]
  },
  {
   "cell_type": "code",
   "execution_count": null,
   "metadata": {},
   "outputs": [],
   "source": [
    "x, _y = x/scaling_factor, _y/scaling_factor"
   ]
  },
  {
   "cell_type": "code",
   "execution_count": null,
   "metadata": {},
   "outputs": [],
   "source": [
    "tf.reset_default_graph()"
   ]
  },
  {
   "cell_type": "code",
   "execution_count": null,
   "metadata": {},
   "outputs": [],
   "source": [
    "X = tf.placeholder(shape=[None, no_steps, n_features], dtype=tf.float32)\n",
    "y = tf.placeholder(shape=[None, no_steps, n_features], dtype=tf.float32)"
   ]
  },
  {
   "cell_type": "code",
   "execution_count": null,
   "metadata": {},
   "outputs": [],
   "source": [
    "with tf.variable_scope('RNN', initializer=tf.contrib.layers.variance_scaling_initializer()):\n",
    "    cells = [tf.contrib.rnn.LSTMCell(dtype=tf.float32,num_units=n_neurons,\n",
    "                                     activation=tf.nn.relu,use_peepholes=True) for i in range(2)]\n",
    "    rnn_layers = tf.contrib.rnn.MultiRNNCell(cells=cells,state_is_tuple=True)\n",
    "    \n",
    "    rnn_outputs, states = tf.nn.dynamic_rnn(cell=rnn_layers,dtype=tf.float32,inputs=X)\n",
    "    stacked_rnn_outputs = tf.reshape(rnn_outputs, [-1, n_neurons])\n",
    "    dense_outputs= tf.layers.dense(inputs=stacked_rnn_outputs,units=n_outputs, activation=None)\n",
    "    weight = tf.Variable(np.random.random(size=(1,n_outputs)), dtype=tf.float32)\n",
    "    outputs = tf.reshape(dense_outputs,[-1, no_steps, n_outputs])"
   ]
  },
  {
   "cell_type": "code",
   "execution_count": null,
   "metadata": {},
   "outputs": [],
   "source": [
    "with tf.name_scope('loss'):\n",
    "    loss = 1/2*tf.sqrt(tf.reduce_mean(tf.square(outputs*weight - y)))"
   ]
  },
  {
   "cell_type": "code",
   "execution_count": null,
   "metadata": {},
   "outputs": [],
   "source": [
    "with tf.name_scope('optimizer'):\n",
    "    optimizer = tf.train.AdamOptimizer(learning_rate=learning_rate)\n",
    "    training_op = optimizer.minimize(loss)"
   ]
  },
  {
   "cell_type": "code",
   "execution_count": null,
   "metadata": {
    "scrolled": true
   },
   "outputs": [],
   "source": [
    "init = tf.global_variables_initializer()\n",
    "saver = tf.train.Saver()\n",
    "with tf.Session() as sess:\n",
    "    init.run()\n",
    "    for epoch in range(n_epochs):\n",
    "        for x_batch, y_batch in next_batch(batch_size,x,_y):\n",
    "            sess.run(training_op, feed_dict={X:x_batch, y:y_batch})\n",
    "        mse = loss.eval(feed_dict = {X:x[:100], y:_y[:100]})\n",
    "        if not epoch %100:\n",
    "            print('epoch',epoch,'MSE:',mse)\n",
    "        \n",
    "    save_path = saver.save(sess,'./music_generator.ckpt')            "
   ]
  },
  {
   "cell_type": "code",
   "execution_count": null,
   "metadata": {},
   "outputs": [],
   "source": [
    "restore = tf.train.Saver()"
   ]
  },
  {
   "cell_type": "code",
   "execution_count": null,
   "metadata": {},
   "outputs": [],
   "source": [
    "rate*3"
   ]
  },
  {
   "cell_type": "code",
   "execution_count": null,
   "metadata": {},
   "outputs": [],
   "source": [
    "cnt = 0\n",
    "nval = rate*3\n",
    "music_gen = [[1000,1000] for i in range(no_steps)]"
   ]
  },
  {
   "cell_type": "code",
   "execution_count": null,
   "metadata": {
    "scrolled": true
   },
   "outputs": [],
   "source": [
    "with tf.Session() as sess:\n",
    "    init.run()\n",
    "    restore.restore(sess, save_path)\n",
    "    while cnt < nval:\n",
    "        temp = np.array(music_gen)\n",
    "        music = outputs.eval(feed_dict = {X:temp[cnt:].reshape(-1,no_steps,n_features)})[0][-1]\n",
    "        music_gen.append([int(m) for m in music])\n",
    "        cnt+=1\n",
    "        if not cnt%1000:\n",
    "            print(cnt, music_gen[-1])"
   ]
  },
  {
   "cell_type": "code",
   "execution_count": null,
   "metadata": {},
   "outputs": [],
   "source": [
    "my_music = np.array(music_gen)"
   ]
  },
  {
   "cell_type": "code",
   "execution_count": null,
   "metadata": {},
   "outputs": [],
   "source": [
    "wavefile.write('./my_music.wav',rate, my_music)"
   ]
  }
 ],
 "metadata": {
  "kernelspec": {
   "display_name": "Python 3",
   "language": "python",
   "name": "python3"
  },
  "language_info": {
   "codemirror_mode": {
    "name": "ipython",
    "version": 3
   },
   "file_extension": ".py",
   "mimetype": "text/x-python",
   "name": "python",
   "nbconvert_exporter": "python",
   "pygments_lexer": "ipython3",
   "version": "3.6.6"
  }
 },
 "nbformat": 4,
 "nbformat_minor": 2
}
